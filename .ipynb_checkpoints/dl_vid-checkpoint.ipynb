{
 "cells": [
  {
   "cell_type": "code",
   "execution_count": 1,
   "metadata": {},
   "outputs": [],
   "source": [
    "import re\n",
    "from robobrowser import RoboBrowser\n",
    "import urllib\n",
    "import os"
   ]
  },
  {
   "cell_type": "code",
   "execution_count": 2,
   "metadata": {},
   "outputs": [],
   "source": [
    "class ProgressBar(object):\n",
    "    \"\"\"\n",
    "    链接：https://www.zhihu.com/question/41132103/answer/93438156\n",
    "    来源：知乎\n",
    "    \"\"\"\n",
    "    def __init__(self, title, count=0.0, run_status=None, fin_status=None, total=100.0, unit='', sep='/', chunk_size=1.0):\n",
    "        super(ProgressBar, self).__init__()\n",
    "        self.info = \"【%s】     %s     %.2f %s %s %.2f %s\"\n",
    "        self.title = title\n",
    "        self.total = total\n",
    "        self.count = count\n",
    "        self.chunk_size = chunk_size\n",
    "        self.status = run_status or \"\"\n",
    "        self.fin_status = fin_status or \" \" * len(self.statue)\n",
    "        self.unit = unit\n",
    "        self.seq = sep\n",
    "\n",
    "    def __get_info(self):\n",
    "        \"\"\"【razorback】 下载完成 3751.50 KB / 3751.50 KB \"\"\"\n",
    "        _info = self.info % (self.title, self.status, self.count/self.chunk_size, self.unit, self.seq, self.total/self.chunk_size, self.unit)\n",
    "        return _info\n",
    "\n",
    "    def refresh(self, count=1, status=None):\n",
    "        self.count += count\n",
    "        self.status = status or self.status\n",
    "        end_str = \"\\r\"\n",
    "        if self.count >= self.total:\n",
    "            end_str = '\\n'\n",
    "            self.status = status or self.fin_status\n",
    "        print(self.__get_info(), end=end_str)"
   ]
  },
  {
   "cell_type": "code",
   "execution_count": 3,
   "metadata": {},
   "outputs": [],
   "source": [
    "path = './'"
   ]
  },
  {
   "cell_type": "code",
   "execution_count": 4,
   "metadata": {},
   "outputs": [],
   "source": [
    "def download_video_by_url(url, path, vid_title):\n",
    "    \n",
    "    outfile = os.path.join(path,vid_title+'.mp4')\n",
    "    with closing(requests.get(url, stream=True)) as response:\n",
    "        chunk_size = 1024\n",
    "        content_size = int(response.headers['content-length'])\n",
    "        progress = ProgressBar(vid_title, total=content_size, unit=\"KB\", chunk_size=chunk_size, run_status=\"正在下载\", fin_status=\"下载完成\")\n",
    "        assert response.status_code == 200\n",
    "        with open(outfile, \"wb\") as file:\n",
    "            for data in response.iter_content(chunk_size=chunk_size):\n",
    "                file.write(data)\n",
    "                progress.refresh(count=len(data))\n",
    "    return True"
   ]
  },
  {
   "cell_type": "code",
   "execution_count": 461,
   "metadata": {},
   "outputs": [],
   "source": [
    "url = 'http://91porn.com/view_video.php?viewkey=4d65b13fa47b2afb51b8'"
   ]
  },
  {
   "cell_type": "code",
   "execution_count": 462,
   "metadata": {},
   "outputs": [],
   "source": [
    "br = RoboBrowser(history=True,parser='lxml')\n",
    "br.open(url)"
   ]
  },
  {
   "cell_type": "code",
   "execution_count": 463,
   "metadata": {},
   "outputs": [],
   "source": [
    "lang = br.get_forms()[0]"
   ]
  },
  {
   "cell_type": "code",
   "execution_count": 464,
   "metadata": {},
   "outputs": [],
   "source": [
    "lang['session_language'].options = ['cn_CN']\n",
    "lang['session_language'].value = 'cn_CN'"
   ]
  },
  {
   "cell_type": "code",
   "execution_count": 465,
   "metadata": {},
   "outputs": [],
   "source": [
    "br.submit_form(lang)"
   ]
  },
  {
   "cell_type": "code",
   "execution_count": 466,
   "metadata": {},
   "outputs": [
    {
     "name": "stdout",
     "output_type": "stream",
     "text": [
      "背着老公打炮\n"
     ]
    }
   ],
   "source": [
    "vid_title = br.find('div',{'id':'viewvideo-title'}).text.strip()\n",
    "print(vid_title)"
   ]
  },
  {
   "cell_type": "code",
   "execution_count": 505,
   "metadata": {},
   "outputs": [],
   "source": [
    "vid_id = re.findall(r'\\d{6}',br.find('a',{'href':'#featureVideo'}).attrs['onclick'])[0]"
   ]
  },
  {
   "cell_type": "code",
   "execution_count": 506,
   "metadata": {},
   "outputs": [],
   "source": [
    "vid_real_url = 'http://192.240.120.34//mp43/{}.mp4'.format(vid_id)"
   ]
  },
  {
   "cell_type": "code",
   "execution_count": 510,
   "metadata": {},
   "outputs": [
    {
     "data": {
      "text/plain": [
       "('背着老公打炮.mp4', <http.client.HTTPMessage at 0x1be5229df98>)"
      ]
     },
     "execution_count": 510,
     "metadata": {},
     "output_type": "execute_result"
    }
   ],
   "source": [
    "urllib.request.urlretrieve(vid_real_url,'{}.mp4'.format(vid_title))"
   ]
  },
  {
   "cell_type": "code",
   "execution_count": 521,
   "metadata": {},
   "outputs": [
    {
     "name": "stdout",
     "output_type": "stream",
     "text": []
    },
    {
     "name": "stdout",
     "output_type": "stream",
     "text": []
    },
    {
     "name": "stdout",
     "output_type": "stream",
     "text": []
    },
    {
     "name": "stdout",
     "output_type": "stream",
     "text": []
    },
    {
     "name": "stdout",
     "output_type": "stream",
     "text": [
      "【背着老公打炮】     下载完成     76845.12 KB / 76845.12 KB\n",
      "下载成功！珍惜生命，远离黄赌毒！\n"
     ]
    }
   ],
   "source": [
    "if download_video_by_url(vid_real_url, path, vid_title):    \n",
    "            print('下载成功！珍惜生命，远离黄赌毒！')"
   ]
  },
  {
   "cell_type": "code",
   "execution_count": null,
   "metadata": {},
   "outputs": [],
   "source": []
  },
  {
   "cell_type": "code",
   "execution_count": 115,
   "metadata": {},
   "outputs": [],
   "source": [
    "hot_videos = {}\n",
    "br = RoboBrowser(history=True,parser='lxml')\n",
    "url = 'http://91porn.com/v.php?category=rf&viewtype=basic&page=1'\n",
    "br.open(url)\n",
    "\n",
    "lang = br.get_forms()[0]\n",
    "lang['session_language'].options = ['cn_CN']\n",
    "lang['session_language'].value = 'cn_CN'\n",
    "br.submit_form(lang)\n",
    "\n",
    "# get every video's information\n",
    "videos = br.find_all('div',{'class':'listchannel'})\n",
    "# get their titles and urls\n",
    "videos_dict = dict([(i.find('a').find('img')['title'],i.find('a')['href']) for i in videos])\n",
    "hot_videos.update(videos_dict)"
   ]
  },
  {
   "cell_type": "code",
   "execution_count": 116,
   "metadata": {},
   "outputs": [],
   "source": [
    "for i,j in enumerate(hot_videos.keys()):\n",
    "    print(i,j)"
   ]
  },
  {
   "cell_type": "code",
   "execution_count": null,
   "metadata": {},
   "outputs": [],
   "source": []
  }
 ],
 "metadata": {
  "kernelspec": {
   "display_name": "Python 3",
   "language": "python",
   "name": "python3"
  },
  "language_info": {
   "codemirror_mode": {
    "name": "ipython",
    "version": 3
   },
   "file_extension": ".py",
   "mimetype": "text/x-python",
   "name": "python",
   "nbconvert_exporter": "python",
   "pygments_lexer": "ipython3",
   "version": "3.6.4"
  }
 },
 "nbformat": 4,
 "nbformat_minor": 2
}
